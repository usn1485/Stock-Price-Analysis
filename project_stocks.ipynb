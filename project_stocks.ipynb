{
 "cells": [
  {
   "cell_type": "code",
   "execution_count": 1,
   "metadata": {},
   "outputs": [],
   "source": [
    "import pandas as pd\n",
    "import numpy as np"
   ]
  },
  {
   "cell_type": "code",
   "execution_count": 2,
   "metadata": {},
   "outputs": [],
   "source": [
    "file1 = \"aapl.csv\"\n",
    "file2 = \"abc.csv\"\n",
    "file3 = \"amzn.csv\"\n",
    "file4 = \"brk-b.csv\"\n",
    "file5 = \"cvs.csv\"\n",
    "file6 = \"fb.csv\"\n",
    "file7 = \"mck.csv\"\n",
    "file8 = \"msft.csv\"\n",
    "file9 = \"nflx.csv\"\n",
    "file10 = \"t.csv\"\n",
    "file11 = \"tsla.csv\"\n",
    "file12 = \"unh.csv\"\n",
    "file13 = \"wmt.csv\"\n",
    "file14 = \"xom.csv\"\n",
    "file15 = \"ci.csv\"\n",
    "file16 = \"goog.csv\""
   ]
  },
  {
   "cell_type": "code",
   "execution_count": 3,
   "metadata": {},
   "outputs": [],
   "source": [
    "aapl = pd.read_csv(file1, encoding = \"ISO-8859-1\")\n",
    "abc = pd.read_csv(file2, encoding = \"ISO-8859-1\")\n",
    "amzn = pd.read_csv(file3, encoding = \"ISO-8859-1\")\n",
    "brk_b = pd.read_csv(file4, encoding = \"ISO-8859-1\")\n",
    "cvs = pd.read_csv(file5, encoding = \"ISO-8859-1\")\n",
    "fb = pd.read_csv(file6, encoding = \"ISO-8859-1\")\n",
    "mck = pd.read_csv(file7, encoding = \"ISO-8859-1\")\n",
    "msft = pd.read_csv(file8, encoding = \"ISO-8859-1\")\n",
    "nflx = pd.read_csv(file9, encoding = \"ISO-8859-1\")\n",
    "t = pd.read_csv(file10, encoding = \"ISO-8859-1\")\n",
    "tsla = pd.read_csv(file11, encoding = \"ISO-8859-1\")\n",
    "unh = pd.read_csv(file12, encoding = \"ISO-8859-1\")\n",
    "wmt = pd.read_csv(file13, encoding = \"ISO-8859-1\")\n",
    "xom = pd.read_csv(file14, encoding = \"ISO-8859-1\")\n",
    "ci = pd.read_csv(file15, encoding = \"ISO-8859-1\")\n",
    "goog = pd.read_csv(file16, encoding = \"ISO-8859-1\")\n"
   ]
  },
  {
   "cell_type": "code",
   "execution_count": 4,
   "metadata": {},
   "outputs": [
    {
     "data": {
      "text/plain": [
       "Date          object\n",
       "Open         float64\n",
       "High         float64\n",
       "Low          float64\n",
       "Close        float64\n",
       "Adj Close    float64\n",
       "Volume         int64\n",
       "dtype: object"
      ]
     },
     "execution_count": 4,
     "metadata": {},
     "output_type": "execute_result"
    }
   ],
   "source": [
    "fb.dtypes"
   ]
  },
  {
   "cell_type": "code",
   "execution_count": 5,
   "metadata": {},
   "outputs": [],
   "source": [
    "aapl['stock']='Apple (AAPL)'\n",
    "abc['stock']='AmerisourceBergen (ABC)'\n",
    "amzn['stock']='Amazon (AMZN)'\n",
    "brk_b['stock']='Berkshire Hathaway (BRK.A)'\n",
    "cvs['stock']='CVS Health (CVS)'\n",
    "fb['stock']='Facebook (FB)'\n",
    "mck['stock']='McKesson (MCK)'\n",
    "msft['stock']='Microsoft (MSFT)'\n",
    "nflx['stock']='Netflix (NFLX)'\n",
    "t['stock']='AT&T (T)'\n",
    "tsla['stock']='Tesla (TSLA)'\n",
    "unh['stock']='UnitedHealth (UNH)'\n",
    "wmt['stock']='Walmart (WMT)'\n",
    "xom['stock']='Exxon Mobil (XOM)'\n",
    "ci['stock']='Cigna (CI)'\n",
    "goog['stock']='Google (GOOG)'"
   ]
  },
  {
   "cell_type": "code",
   "execution_count": 6,
   "metadata": {},
   "outputs": [],
   "source": [
    "aapl = aapl[['stock'] + aapl.columns[:-1].tolist()]\n",
    "abc = abc[['stock'] + abc.columns[:-1].tolist()]\n",
    "amzn = amzn[['stock'] + amzn.columns[:-1].tolist()]\n",
    "brk_b = brk_b[['stock'] + brk_b.columns[:-1].tolist()]\n",
    "cvs = cvs[['stock'] + cvs.columns[:-1].tolist()]\n",
    "fb = fb[['stock'] + fb.columns[:-1].tolist()]\n",
    "mck = mck[['stock'] + mck.columns[:-1].tolist()]\n",
    "msft = msft[['stock'] + msft.columns[:-1].tolist()]\n",
    "nflx = nflx[['stock'] + nflx.columns[:-1].tolist()]\n",
    "t = t[['stock'] + t.columns[:-1].tolist()]\n",
    "tsla = tsla[['stock'] + tsla.columns[:-1].tolist()]\n",
    "unh = unh[['stock'] + unh.columns[:-1].tolist()]\n",
    "wmt = wmt[['stock'] + wmt.columns[:-1].tolist()]\n",
    "xom = xom[['stock'] + xom.columns[:-1].tolist()]\n",
    "ci = ci[['stock'] + ci.columns[:-1].tolist()]\n",
    "goog = goog[['stock'] + goog.columns[:-1].tolist()]"
   ]
  },
  {
   "cell_type": "code",
   "execution_count": 7,
   "metadata": {},
   "outputs": [
    {
     "data": {
      "text/html": [
       "<div>\n",
       "<style scoped>\n",
       "    .dataframe tbody tr th:only-of-type {\n",
       "        vertical-align: middle;\n",
       "    }\n",
       "\n",
       "    .dataframe tbody tr th {\n",
       "        vertical-align: top;\n",
       "    }\n",
       "\n",
       "    .dataframe thead th {\n",
       "        text-align: right;\n",
       "    }\n",
       "</style>\n",
       "<table border=\"1\" class=\"dataframe\">\n",
       "  <thead>\n",
       "    <tr style=\"text-align: right;\">\n",
       "      <th></th>\n",
       "      <th>stock</th>\n",
       "      <th>Date</th>\n",
       "      <th>Open</th>\n",
       "      <th>High</th>\n",
       "      <th>Low</th>\n",
       "      <th>Close</th>\n",
       "      <th>Adj Close</th>\n",
       "      <th>Volume</th>\n",
       "    </tr>\n",
       "  </thead>\n",
       "  <tbody>\n",
       "    <tr>\n",
       "      <th>0</th>\n",
       "      <td>Apple (AAPL)</td>\n",
       "      <td>2014-10-06</td>\n",
       "      <td>99.949997</td>\n",
       "      <td>100.650002</td>\n",
       "      <td>99.419998</td>\n",
       "      <td>99.620003</td>\n",
       "      <td>91.411026</td>\n",
       "      <td>37051200</td>\n",
       "    </tr>\n",
       "    <tr>\n",
       "      <th>1</th>\n",
       "      <td>Apple (AAPL)</td>\n",
       "      <td>2014-10-07</td>\n",
       "      <td>99.430000</td>\n",
       "      <td>100.120003</td>\n",
       "      <td>98.730003</td>\n",
       "      <td>98.750000</td>\n",
       "      <td>90.612694</td>\n",
       "      <td>42094200</td>\n",
       "    </tr>\n",
       "    <tr>\n",
       "      <th>2</th>\n",
       "      <td>Apple (AAPL)</td>\n",
       "      <td>2014-10-08</td>\n",
       "      <td>98.760002</td>\n",
       "      <td>101.110001</td>\n",
       "      <td>98.309998</td>\n",
       "      <td>100.800003</td>\n",
       "      <td>92.493782</td>\n",
       "      <td>57404700</td>\n",
       "    </tr>\n",
       "    <tr>\n",
       "      <th>3</th>\n",
       "      <td>Apple (AAPL)</td>\n",
       "      <td>2014-10-09</td>\n",
       "      <td>101.540001</td>\n",
       "      <td>102.379997</td>\n",
       "      <td>100.610001</td>\n",
       "      <td>101.019997</td>\n",
       "      <td>92.695656</td>\n",
       "      <td>77376500</td>\n",
       "    </tr>\n",
       "    <tr>\n",
       "      <th>4</th>\n",
       "      <td>Apple (AAPL)</td>\n",
       "      <td>2014-10-10</td>\n",
       "      <td>100.690002</td>\n",
       "      <td>102.029999</td>\n",
       "      <td>100.300003</td>\n",
       "      <td>100.730003</td>\n",
       "      <td>92.429558</td>\n",
       "      <td>66331600</td>\n",
       "    </tr>\n",
       "  </tbody>\n",
       "</table>\n",
       "</div>"
      ],
      "text/plain": [
       "          stock        Date        Open        High         Low       Close  \\\n",
       "0  Apple (AAPL)  2014-10-06   99.949997  100.650002   99.419998   99.620003   \n",
       "1  Apple (AAPL)  2014-10-07   99.430000  100.120003   98.730003   98.750000   \n",
       "2  Apple (AAPL)  2014-10-08   98.760002  101.110001   98.309998  100.800003   \n",
       "3  Apple (AAPL)  2014-10-09  101.540001  102.379997  100.610001  101.019997   \n",
       "4  Apple (AAPL)  2014-10-10  100.690002  102.029999  100.300003  100.730003   \n",
       "\n",
       "   Adj Close    Volume  \n",
       "0  91.411026  37051200  \n",
       "1  90.612694  42094200  \n",
       "2  92.493782  57404700  \n",
       "3  92.695656  77376500  \n",
       "4  92.429558  66331600  "
      ]
     },
     "execution_count": 7,
     "metadata": {},
     "output_type": "execute_result"
    }
   ],
   "source": [
    "aapl.head()"
   ]
  },
  {
   "cell_type": "code",
   "execution_count": 8,
   "metadata": {},
   "outputs": [],
   "source": [
    "stock_frames=[aapl, abc, amzn, brk_b, cvs, fb, mck, msft, nflx, t, tsla, unh, wmt, xom, ci, goog]"
   ]
  },
  {
   "cell_type": "code",
   "execution_count": 9,
   "metadata": {
    "scrolled": true
   },
   "outputs": [],
   "source": [
    "combo_frames = pd.concat(stock_frames)"
   ]
  },
  {
   "cell_type": "code",
   "execution_count": 10,
   "metadata": {},
   "outputs": [
    {
     "data": {
      "text/html": [
       "<div>\n",
       "<style scoped>\n",
       "    .dataframe tbody tr th:only-of-type {\n",
       "        vertical-align: middle;\n",
       "    }\n",
       "\n",
       "    .dataframe tbody tr th {\n",
       "        vertical-align: top;\n",
       "    }\n",
       "\n",
       "    .dataframe thead th {\n",
       "        text-align: right;\n",
       "    }\n",
       "</style>\n",
       "<table border=\"1\" class=\"dataframe\">\n",
       "  <thead>\n",
       "    <tr style=\"text-align: right;\">\n",
       "      <th></th>\n",
       "      <th>stock</th>\n",
       "      <th>Date</th>\n",
       "      <th>Open</th>\n",
       "      <th>High</th>\n",
       "      <th>Low</th>\n",
       "      <th>Close</th>\n",
       "      <th>Adj Close</th>\n",
       "      <th>Volume</th>\n",
       "    </tr>\n",
       "  </thead>\n",
       "  <tbody>\n",
       "    <tr>\n",
       "      <th>0</th>\n",
       "      <td>Apple (AAPL)</td>\n",
       "      <td>2014-10-06</td>\n",
       "      <td>99.949997</td>\n",
       "      <td>100.650002</td>\n",
       "      <td>99.419998</td>\n",
       "      <td>99.620003</td>\n",
       "      <td>91.411026</td>\n",
       "      <td>37051200</td>\n",
       "    </tr>\n",
       "    <tr>\n",
       "      <th>1</th>\n",
       "      <td>Apple (AAPL)</td>\n",
       "      <td>2014-10-07</td>\n",
       "      <td>99.430000</td>\n",
       "      <td>100.120003</td>\n",
       "      <td>98.730003</td>\n",
       "      <td>98.750000</td>\n",
       "      <td>90.612694</td>\n",
       "      <td>42094200</td>\n",
       "    </tr>\n",
       "    <tr>\n",
       "      <th>2</th>\n",
       "      <td>Apple (AAPL)</td>\n",
       "      <td>2014-10-08</td>\n",
       "      <td>98.760002</td>\n",
       "      <td>101.110001</td>\n",
       "      <td>98.309998</td>\n",
       "      <td>100.800003</td>\n",
       "      <td>92.493782</td>\n",
       "      <td>57404700</td>\n",
       "    </tr>\n",
       "    <tr>\n",
       "      <th>3</th>\n",
       "      <td>Apple (AAPL)</td>\n",
       "      <td>2014-10-09</td>\n",
       "      <td>101.540001</td>\n",
       "      <td>102.379997</td>\n",
       "      <td>100.610001</td>\n",
       "      <td>101.019997</td>\n",
       "      <td>92.695656</td>\n",
       "      <td>77376500</td>\n",
       "    </tr>\n",
       "    <tr>\n",
       "      <th>4</th>\n",
       "      <td>Apple (AAPL)</td>\n",
       "      <td>2014-10-10</td>\n",
       "      <td>100.690002</td>\n",
       "      <td>102.029999</td>\n",
       "      <td>100.300003</td>\n",
       "      <td>100.730003</td>\n",
       "      <td>92.429558</td>\n",
       "      <td>66331600</td>\n",
       "    </tr>\n",
       "  </tbody>\n",
       "</table>\n",
       "</div>"
      ],
      "text/plain": [
       "          stock        Date        Open        High         Low       Close  \\\n",
       "0  Apple (AAPL)  2014-10-06   99.949997  100.650002   99.419998   99.620003   \n",
       "1  Apple (AAPL)  2014-10-07   99.430000  100.120003   98.730003   98.750000   \n",
       "2  Apple (AAPL)  2014-10-08   98.760002  101.110001   98.309998  100.800003   \n",
       "3  Apple (AAPL)  2014-10-09  101.540001  102.379997  100.610001  101.019997   \n",
       "4  Apple (AAPL)  2014-10-10  100.690002  102.029999  100.300003  100.730003   \n",
       "\n",
       "   Adj Close    Volume  \n",
       "0  91.411026  37051200  \n",
       "1  90.612694  42094200  \n",
       "2  92.493782  57404700  \n",
       "3  92.695656  77376500  \n",
       "4  92.429558  66331600  "
      ]
     },
     "execution_count": 10,
     "metadata": {},
     "output_type": "execute_result"
    }
   ],
   "source": [
    "combo_frames.head()"
   ]
  },
  {
   "cell_type": "code",
   "execution_count": 11,
   "metadata": {},
   "outputs": [],
   "source": [
    "combo_frames.to_csv('project_stocks.csv', index=False)"
   ]
  }
 ],
 "metadata": {
  "kernelspec": {
   "display_name": "Python [conda env:pythondata] *",
   "language": "python",
   "name": "conda-env-pythondata-py"
  },
  "language_info": {
   "codemirror_mode": {
    "name": "ipython",
    "version": 3
   },
   "file_extension": ".py",
   "mimetype": "text/x-python",
   "name": "python",
   "nbconvert_exporter": "python",
   "pygments_lexer": "ipython3",
   "version": "3.6.8"
  }
 },
 "nbformat": 4,
 "nbformat_minor": 2
}
